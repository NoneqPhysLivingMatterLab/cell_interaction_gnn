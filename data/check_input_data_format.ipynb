{
 "cells": [
  {
   "cell_type": "code",
   "execution_count": 6,
   "id": "5693a5c1-227d-4bb0-94f2-e484650570e0",
   "metadata": {},
   "outputs": [
    {
     "name": "stdout",
     "output_type": "stream",
     "text": [
      "(7707, 10)\n",
      "[[ 0.000e+00  0.000e+00  8.930e+02 ... -9.100e+01 -3.110e+02  0.000e+00]\n",
      " [ 0.000e+00  9.000e+00  1.111e+03 ... -7.000e+00 -3.110e+02  0.000e+00]\n",
      " [ 0.000e+00  1.600e+01  6.130e+02 ... -1.000e+00 -3.110e+02  0.000e+00]\n",
      " ...\n",
      " [ 1.400e+01  1.480e+02  2.692e+03 ... -3.000e+00 -5.910e+02  0.000e+00]\n",
      " [ 1.400e+01  3.420e+02  2.471e+03 ... -2.000e+00 -5.910e+02  0.000e+00]\n",
      " [ 1.400e+01  1.660e+02  2.372e+03 ... -2.000e+00 -5.910e+02  0.000e+00]]\n"
     ]
    }
   ],
   "source": [
    "import numpy as np\n",
    "#Lineage data\n",
    "# The order of elements\n",
    "# ['Timeframe', 'CloneID', 'ParentID', 'CellID','PositionX','PositionY','VoronoiArea','G1MarkerInVoronoiArea','ActinSegmentationArea','G1MarkerInActinSegmentationArea']\n",
    "\n",
    "data_lineage = np.load(\"simulation/del-div/sample0/lineage.npy\")\n",
    "print(data_lineage.shape)\n",
    "print(data_lineage)"
   ]
  },
  {
   "cell_type": "code",
   "execution_count": 5,
   "id": "35d71286-db4d-48df-9d25-2e008e3713cb",
   "metadata": {},
   "outputs": [
    {
     "name": "stdout",
     "output_type": "stream",
     "text": [
      "(15, 500, 500)\n"
     ]
    }
   ],
   "source": [
    "#segmentation data\n",
    "data_segmentation = np.load(\"simulation/del-div/sample0/segmentation.npy\")\n",
    "print(data_segmentation.shape)"
   ]
  },
  {
   "cell_type": "code",
   "execution_count": null,
   "id": "261ecbad-2d75-4ddb-9375-cedf8aeafd5f",
   "metadata": {},
   "outputs": [],
   "source": []
  }
 ],
 "metadata": {
  "kernelspec": {
   "display_name": "Python 3",
   "language": "python",
   "name": "python3"
  },
  "language_info": {
   "codemirror_mode": {
    "name": "ipython",
    "version": 3
   },
   "file_extension": ".py",
   "mimetype": "text/x-python",
   "name": "python",
   "nbconvert_exporter": "python",
   "pygments_lexer": "ipython3",
   "version": "3.7.7"
  }
 },
 "nbformat": 4,
 "nbformat_minor": 5
}
