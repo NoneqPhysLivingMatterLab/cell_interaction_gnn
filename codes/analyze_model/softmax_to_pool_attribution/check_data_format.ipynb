{
 "cells": [
  {
   "cell_type": "code",
   "execution_count": 5,
   "id": "fcc386bd",
   "metadata": {},
   "outputs": [
    {
     "name": "stdout",
     "output_type": "stream",
     "text": [
      "Error ignored:RunningInJupyter_RelativePath\n",
      "Error ignored:RunningInJupyter_RelativePath\n"
     ]
    }
   ],
   "source": [
    "# Copyright (c) 2021 Takaki Yamamoto\n",
    "# Licensed under the Apache License, Version 2.0 (the “License”);\n",
    "# you may not use this file except in compliance with the License.\n",
    "# You may obtain a copy of the License at\n",
    "#\n",
    "#        http://www.apache.org/licenses/LICENSE-2.0\n",
    "#\n",
    "# Unless required by applicable law or agreed to in writing, software\n",
    "# distributed under the License is distributed on an “AS IS” BASIS,\n",
    "# WITHOUT WARRANTIES OR CONDITIONS OF ANY KIND, either express or implied.\n",
    "# See the License for the specific language governing permissions and\n",
    "# limitations under the License.\n",
    "\n",
    "\"\"\"Check data formats in the calculation of attribution\"\"\"\n",
    "\n",
    "import pickle\n",
    "import sys\n",
    "import os\n",
    "import numpy as np\n",
    "#Add path to load modules\n",
    "\n",
    "sys.path.append(\"../..\") \n",
    "sys.path.append(\"..\") \n",
    "\n",
    "try:\n",
    "    sys.path.append(os.path.join(os.path.dirname(__file__), '../..'))\n",
    "except:\n",
    "    print(\"Error ignored:RunningInJupyter_RelativePath\")\n",
    "    \n",
    "try:\n",
    "    sys.path.append(os.path.join(os.path.dirname(__file__), '.'))\n",
    "except:\n",
    "    print(\"Error ignored:RunningInJupyter_RelativePath\")\n",
    "    \n",
    "from functions import system_utility as sutil\n",
    "    \n",
    "    \n",
    "#Const: do not change\n",
    "num_feature = 6\n"
   ]
  },
  {
   "cell_type": "code",
   "execution_count": 6,
   "id": "7e2fb6b0",
   "metadata": {},
   "outputs": [],
   "source": [
    "# Paths: \n",
    "dirpath_result = \"../../../analysis/3.training_attribution/simulation/del-div/feature_ZZFR/result/SP_fnum6_time4_netnorm_all_1hot_rev-FLedit_ptest0_noself1_inplane1_skip0_nullnet1_ave1_edge0_reg0-0_nullw0_even0/\" #Change to feature_ZZFR\n",
    "\n",
    "dirname_sample = \"model=23_epoch=2000_hidnode=50_lr=0.000100_opt=adam_feature=feature_concat_infeats=6_penalty=1.0_shuffle=0_noself=1_drop=0.10_wd=0.000000_inplane=1_omitt0=0_border=0_ptest=0_layer=1_0/\"\n",
    "\n",
    "dirname_attribution = \"attribution_n=50_MaxMacroF1/test/test_0/AllCells/0/cellID=452_reallabel=0/\" \n",
    "\n",
    "dirname_attribution_summary = \"attribution_n=50_MaxMacroF1_nnet=11/test_summary/AllCells/data/\""
   ]
  },
  {
   "cell_type": "code",
   "execution_count": 7,
   "id": "61ec3675",
   "metadata": {},
   "outputs": [],
   "source": [
    "dirpath_base = dirpath_result + dirname_sample"
   ]
  },
  {
   "cell_type": "code",
   "execution_count": 8,
   "id": "89e5b409",
   "metadata": {},
   "outputs": [
    {
     "name": "stdout",
     "output_type": "stream",
     "text": [
      "[[1409, 259, 452, 1126, 178, 472], [1409, 259, 452, 1126, 1644, 1645, 178], [1409, 259, 452, 1126, 1644, 1645, 178], [1827, 452, 1126, 1644, 1645, 1810, 1811]]\n"
     ]
    }
   ],
   "source": [
    "# List of cell IDs in a subgraph. \n",
    "# format: \n",
    "#[[the target cell ID of the first layer(t0), neighbor1 ID(t0), neighbor2 ID(t0),... ],\n",
    "#[the target cell ID of the 2nd layer(t1), neighbor1 ID(t1), neighbor2 ID(t1),...],\n",
    "#...]\n",
    "filepath = dirpath_base + dirname_attribution + \"AllTargetCellListNoDoubling.pickle\"\n",
    "data = sutil.PickleLoad(filepath)\n",
    "print(data)"
   ]
  },
  {
   "cell_type": "code",
   "execution_count": 9,
   "id": "68d0eff3",
   "metadata": {},
   "outputs": [
    {
     "name": "stdout",
     "output_type": "stream",
     "text": [
      "[[178, 259, 472, 1126, 1409], [178, 259, 1126, 1409, 1644, 1645], [178, 259, 1126, 1409, 1644, 1645], [1126, 1644, 1645, 1810, 1811, 1827]]\n"
     ]
    }
   ],
   "source": [
    "# List of neiborging cell IDs in a subgraph. \n",
    "# format: \n",
    "#[[neighbor1 ID of the first layer(t0), neighbor2 ID of the first layer(t0),...],\n",
    "#[neighbor1 ID of the 2nd layer(t1), neighbor2 ID of the 2nd layer(t0)(t1),...]\n",
    "#...]\n",
    "\n",
    "filepath = dirpath_base + dirname_attribution + \"AllNeighborCellList.pickle\"\n",
    "data = sutil.PickleLoad(filepath)\n",
    "print(data)"
   ]
  },
  {
   "cell_type": "code",
   "execution_count": 11,
   "id": "e80a9cba",
   "metadata": {},
   "outputs": [
    {
     "name": "stdout",
     "output_type": "stream",
     "text": [
      "[452, 452, 452, 452]\n"
     ]
    }
   ],
   "source": [
    "# List of the target cell ID in a subgraph. \n",
    "# format: [target cell of \"t0\",target cell of \"t1\",target cell of \"t2\"]\n",
    "\n",
    "filepath = dirpath_base + dirname_attribution + \"LineageList.pickle\"\n",
    "data = sutil.PickleLoad(filepath)\n",
    "print(data)"
   ]
  },
  {
   "cell_type": "code",
   "execution_count": 28,
   "id": "01d89a5e",
   "metadata": {},
   "outputs": [
    {
     "name": "stdout",
     "output_type": "stream",
     "text": [
      "[0.35310313 0.35650417 0.36043918 0.36285856 0.36497095 0.36666274\n",
      " 0.36745262 0.36759359 0.36731735 0.36718437 0.36495724 0.36131868\n",
      " 0.35683116 0.35285848 0.35075563 0.34964758 0.3491894  0.34880662\n",
      " 0.34860426 0.34833217 0.34801814 0.34796154 0.34807754 0.34794635\n",
      " 0.34726155 0.34643924 0.34562561 0.34486422 0.34423378 0.34392795\n",
      " 0.34328946 0.34189934 0.340489   0.33900672 0.33792681 0.33671436\n",
      " 0.33559322 0.3341819  0.33284262 0.33199227 0.33122051 0.33047232\n",
      " 0.33019978 0.32969293 0.32901686 0.3284609  0.32777855 0.32647401\n",
      " 0.32574019 0.32484519 0.32393494]\n",
      "(51,)\n"
     ]
    }
   ],
   "source": [
    "# Array of score f(alpha) of the subgraph. \n",
    "# [f(0),f(1/n),,f(1)]\n",
    "\n",
    "filepath = dirpath_base + dirname_attribution + \"y_score_list.pickle\"\n",
    "data = sutil.PickleLoad(filepath)\n",
    "print(data)"
   ]
  },
  {
   "cell_type": "code",
   "execution_count": 30,
   "id": "ada01526",
   "metadata": {},
   "outputs": [
    {
     "name": "stdout",
     "output_type": "stream",
     "text": [
      "4\n",
      "torch.Size([1608, 6])\n",
      "torch.Size([1704, 6])\n",
      "torch.Size([1778, 6])\n",
      "torch.Size([1857, 6])\n"
     ]
    }
   ],
   "source": [
    "# array of IGs of all the nodes with respect to the traget cell. \n",
    "# Note that the cells outside the subgraph have zero IGs by definition. \n",
    "filepath = dirpath_base + dirname_attribution + \"IntegratedGradient_list.pickle\"\n",
    "data = sutil.PickleLoad(filepath)\n",
    "#print(len(data))\n",
    "print(data[0].shape) #t0\n",
    "print(data[1].shape) #t1\n",
    "print(data[2].shape) #t2\n",
    "print(data[3].shape) #t3"
   ]
  },
  {
   "cell_type": "code",
   "execution_count": 14,
   "id": "87b4a9b1",
   "metadata": {},
   "outputs": [
    {
     "name": "stdout",
     "output_type": "stream",
     "text": [
      "[2 2 1 2 2 2 2 2 1 2 2 2 2 2 2 1 2 2 2 2 2 1 2 2 2 2 2]\n"
     ]
    }
   ],
   "source": [
    "# 1D List of relative positions of cells in a subgraph. \n",
    "# 1: the target cell, 2: the neighbor cell\n",
    "# The order of cells are the 1D-flattened AllTargetCellListNoDoubling.pickle\n",
    "filepath = dirpath_base + dirname_attribution + \"position_all_path.pickle\"\n",
    "data = sutil.PickleLoad(filepath)\n",
    "print(data)"
   ]
  },
  {
   "cell_type": "code",
   "execution_count": 31,
   "id": "c188e2c1",
   "metadata": {},
   "outputs": [
    {
     "name": "stdout",
     "output_type": "stream",
     "text": [
      "[0 0 0 0 0 0 1 1 1 1 1 1 1 2 2 2 2 2 2 2 3 3 3 3 3 3 3]\n",
      "number of cells in the subnetwork=27\n"
     ]
    }
   ],
   "source": [
    "# 1D List of time of cells in a subgraph. \n",
    "# 1: the target cell, 2: the neighbor cell\n",
    "# The order of cells are the 1D-flattened AllTargetCellListNoDoubling.pickle\n",
    "filepath = dirpath_base + dirname_attribution + \"time_index_all.pickle\"\n",
    "data = sutil.PickleLoad(filepath)\n",
    "print(data)\n",
    "print(\"number of cells in the subgraph=%d\"%data.shape[0])"
   ]
  },
  {
   "cell_type": "code",
   "execution_count": 32,
   "id": "f5d0870f",
   "metadata": {
    "lines_to_next_cell": 2
   },
   "outputs": [
    {
     "name": "stdout",
     "output_type": "stream",
     "text": [
      "['T0P2F0', 'T0P2F1', 'T0P2F2', 'T0P2F3', 'T0P2F4', 'T0P2F5', 'T0P2F0', 'T0P2F1', 'T0P2F2', 'T0P2F3', 'T0P2F4', 'T0P2F5', 'T0P1F0', 'T0P1F1', 'T0P1F2', 'T0P1F3', 'T0P1F4', 'T0P1F5', 'T0P2F0', 'T0P2F1', 'T0P2F2', 'T0P2F3', 'T0P2F4', 'T0P2F5', 'T0P2F0', 'T0P2F1', 'T0P2F2', 'T0P2F3', 'T0P2F4', 'T0P2F5', 'T0P2F0', 'T0P2F1', 'T0P2F2', 'T0P2F3', 'T0P2F4', 'T0P2F5', 'T1P2F0', 'T1P2F1', 'T1P2F2', 'T1P2F3', 'T1P2F4', 'T1P2F5', 'T1P2F0', 'T1P2F1', 'T1P2F2', 'T1P2F3', 'T1P2F4', 'T1P2F5', 'T1P1F0', 'T1P1F1', 'T1P1F2', 'T1P1F3', 'T1P1F4', 'T1P1F5', 'T1P2F0', 'T1P2F1', 'T1P2F2', 'T1P2F3', 'T1P2F4', 'T1P2F5', 'T1P2F0', 'T1P2F1', 'T1P2F2', 'T1P2F3', 'T1P2F4', 'T1P2F5', 'T1P2F0', 'T1P2F1', 'T1P2F2', 'T1P2F3', 'T1P2F4', 'T1P2F5', 'T1P2F0', 'T1P2F1', 'T1P2F2', 'T1P2F3', 'T1P2F4', 'T1P2F5', 'T2P2F0', 'T2P2F1', 'T2P2F2', 'T2P2F3', 'T2P2F4', 'T2P2F5', 'T2P2F0', 'T2P2F1', 'T2P2F2', 'T2P2F3', 'T2P2F4', 'T2P2F5', 'T2P1F0', 'T2P1F1', 'T2P1F2', 'T2P1F3', 'T2P1F4', 'T2P1F5', 'T2P2F0', 'T2P2F1', 'T2P2F2', 'T2P2F3', 'T2P2F4', 'T2P2F5', 'T2P2F0', 'T2P2F1', 'T2P2F2', 'T2P2F3', 'T2P2F4', 'T2P2F5', 'T2P2F0', 'T2P2F1', 'T2P2F2', 'T2P2F3', 'T2P2F4', 'T2P2F5', 'T2P2F0', 'T2P2F1', 'T2P2F2', 'T2P2F3', 'T2P2F4', 'T2P2F5', 'T3P2F0', 'T3P2F1', 'T3P2F2', 'T3P2F3', 'T3P2F4', 'T3P2F5', 'T3P1F0', 'T3P1F1', 'T3P1F2', 'T3P1F3', 'T3P1F4', 'T3P1F5', 'T3P2F0', 'T3P2F1', 'T3P2F2', 'T3P2F3', 'T3P2F4', 'T3P2F5', 'T3P2F0', 'T3P2F1', 'T3P2F2', 'T3P2F3', 'T3P2F4', 'T3P2F5', 'T3P2F0', 'T3P2F1', 'T3P2F2', 'T3P2F3', 'T3P2F4', 'T3P2F5', 'T3P2F0', 'T3P2F1', 'T3P2F2', 'T3P2F3', 'T3P2F4', 'T3P2F5', 'T3P2F0', 'T3P2F1', 'T3P2F2', 'T3P2F3', 'T3P2F4', 'T3P2F5']\n",
      "number of cells in the subgraph=27\n",
      "[ 0.00000000e+00  0.00000000e+00 -1.02103234e-03  0.00000000e+00\n",
      "  0.00000000e+00  3.95940791e-04  0.00000000e+00  0.00000000e+00\n",
      " -1.68961659e-03  0.00000000e+00  0.00000000e+00  2.02599261e-03\n",
      "  0.00000000e+00  0.00000000e+00  0.00000000e+00  0.00000000e+00\n",
      "  0.00000000e+00  0.00000000e+00  0.00000000e+00  0.00000000e+00\n",
      " -1.43729337e-03  0.00000000e+00  0.00000000e+00  1.68350909e-03\n",
      "  0.00000000e+00  0.00000000e+00 -1.38894189e-03  0.00000000e+00\n",
      "  0.00000000e+00  1.64186733e-03  0.00000000e+00  0.00000000e+00\n",
      "  0.00000000e+00  0.00000000e+00 -2.27397447e-03  3.78825294e-04\n",
      "  0.00000000e+00  0.00000000e+00 -1.31881842e-02  0.00000000e+00\n",
      "  0.00000000e+00  7.76273618e-03  0.00000000e+00  0.00000000e+00\n",
      " -1.20351268e-02  0.00000000e+00  0.00000000e+00  5.05772233e-03\n",
      "  0.00000000e+00  0.00000000e+00  0.00000000e+00  0.00000000e+00\n",
      "  0.00000000e+00  0.00000000e+00  0.00000000e+00  0.00000000e+00\n",
      " -1.25846853e-02  0.00000000e+00  0.00000000e+00  2.46730563e-03\n",
      "  0.00000000e+00  0.00000000e+00 -1.73733886e-02  0.00000000e+00\n",
      "  0.00000000e+00  1.45719545e-02  0.00000000e+00  0.00000000e+00\n",
      " -1.33749219e-02  0.00000000e+00  0.00000000e+00  3.12027463e-04\n",
      "  0.00000000e+00  0.00000000e+00 -1.47029702e-02  0.00000000e+00\n",
      "  0.00000000e+00  1.07131936e-02  0.00000000e+00  0.00000000e+00\n",
      "  0.00000000e+00  0.00000000e+00 -9.74359515e-04 -5.87081158e-05\n",
      "  0.00000000e+00  0.00000000e+00  0.00000000e+00  0.00000000e+00\n",
      " -1.70904002e-03 -1.17536896e-04  0.00000000e+00  0.00000000e+00\n",
      "  0.00000000e+00  0.00000000e+00  0.00000000e+00  0.00000000e+00\n",
      "  0.00000000e+00  0.00000000e+00  6.01283647e-03  0.00000000e+00\n",
      "  0.00000000e+00 -5.42841991e-03  0.00000000e+00  0.00000000e+00\n",
      "  4.28591203e-03  0.00000000e+00  0.00000000e+00 -1.81658822e-03\n",
      "  0.00000000e+00  0.00000000e+00  4.79713921e-03  0.00000000e+00\n",
      "  0.00000000e+00 -3.26750963e-03  0.00000000e+00  0.00000000e+00\n",
      "  0.00000000e+00  0.00000000e+00 -2.59747612e-03 -1.88612830e-04\n",
      "  0.00000000e+00  0.00000000e+00  0.00000000e+00  0.00000000e+00\n",
      "  0.00000000e+00  2.97192321e-03  0.00000000e+00  0.00000000e+00\n",
      "  0.00000000e+00  0.00000000e+00  0.00000000e+00  0.00000000e+00\n",
      "  0.00000000e+00  0.00000000e+00  0.00000000e+00  0.00000000e+00\n",
      "  0.00000000e+00  2.64687627e-03  0.00000000e+00  0.00000000e+00\n",
      "  0.00000000e+00  0.00000000e+00  0.00000000e+00  8.69222975e-04\n",
      "  0.00000000e+00  0.00000000e+00  0.00000000e+00  0.00000000e+00\n",
      "  0.00000000e+00  4.58303001e-03  0.00000000e+00  0.00000000e+00\n",
      "  0.00000000e+00  0.00000000e+00  0.00000000e+00  7.09656207e-03\n",
      "  0.00000000e+00  0.00000000e+00  0.00000000e+00  0.00000000e+00\n",
      "  0.00000000e+00  2.33651153e-04]\n"
     ]
    }
   ],
   "source": [
    "# The cell type names for 1D IG array. \n",
    "# format: [\"name of feature1 of neighbor1 of in the subgraph\",\"name of feature2 of neighbor1 of in the subgraph\",,,]\n",
    "# The order of cells are the same as AllTargetCellListNoDoubling.pickle. \n",
    "\n",
    "\n",
    "filepath = dirpath_base + dirname_attribution + \"cell_type_name_list.pickle\"\n",
    "data = sutil.PickleLoad(filepath)\n",
    "print(data)\n",
    "\n",
    "\n",
    "# 1D array of IG of cells in a subgraph. \n",
    "# format: [\"feature1 of neighbor1 of in the subgraph\",\"feature2 of neighbor1 of in the subgraph\",,,]\n",
    "# The order of cells are the 1D-flattened AllTargetCellListNoDoubling.pickle\n",
    "\n",
    "\n",
    "filepath = dirpath_base + dirname_attribution + \"IntegratedGradient_target_1D.pickle\"\n",
    "data = sutil.PickleLoad(filepath)\n",
    "print(\"number of cells in the subgraph=%d\"%(int(data.shape[0]/num_feature)))\n",
    "print(data)\n"
   ]
  },
  {
   "cell_type": "code",
   "execution_count": 33,
   "id": "acff2a99",
   "metadata": {},
   "outputs": [
    {
     "name": "stdout",
     "output_type": "stream",
     "text": [
      "[0.         0.         1.         0.         0.         0.14119929\n",
      " 0.         0.         1.         0.         0.         0.7851598\n",
      " 0.         0.         1.         0.         0.         0.89524186\n",
      " 0.         0.         1.         0.         0.         0.65830076\n",
      " 0.         0.         1.         0.         0.         0.64340276\n",
      " 0.         0.         0.         0.         1.         0.8782275\n",
      " 0.         0.         1.         0.         0.         0.6529098\n",
      " 0.         0.         1.         0.         0.         0.40497077\n",
      " 0.         0.         1.         0.         0.         0.43182123\n",
      " 0.         0.         1.         0.         0.         0.19386744\n",
      " 0.         0.         1.         0.         0.         0.9890869\n",
      " 0.         0.         1.         0.         0.         0.04012299\n",
      " 0.         0.         1.         0.         0.         0.8160089\n",
      " 0.         0.         0.         0.         1.         0.61548984\n",
      " 0.         0.         0.         0.         1.         0.37714535\n",
      " 0.         0.         1.         0.         0.         0.8227594\n",
      " 0.         0.         1.         0.         0.         0.9983319\n",
      " 0.         0.         1.         0.         0.         0.33464622\n",
      " 0.         0.         1.         0.         0.         0.71760243\n",
      " 0.         0.         0.         0.         1.         0.14393884\n",
      " 0.         0.         0.         0.         0.         0.4628719\n",
      " 0.         0.         0.         0.         0.         0.81879085\n",
      " 0.         0.         0.         0.         0.         0.4196664\n",
      " 0.         0.         0.         0.         0.         0.15506774\n",
      " 0.         0.         0.         0.         0.         0.6554313\n",
      " 0.         0.         0.         0.         0.         0.99482\n",
      " 0.         0.         0.         0.         0.         0.03833908]\n",
      "number of cells in the subgraph=27\n"
     ]
    }
   ],
   "source": [
    "# 1D array of feature values. \n",
    "# format: [\"feature1 of neighbor1 of in the subgraph\",\"feature2 of neighbor1 of in the subgraph\",,,]\n",
    "# The order of cells are the same as AllTargetCellListNoDoubling.pickle. \n",
    "\n",
    "filepath = dirpath_base + dirname_attribution + \"features_target_1D.pickle\"\n",
    "data = sutil.PickleLoad(filepath)\n",
    "print(data)\n",
    "print(\"number of cells in the subgraph=%d\"%(int(len(data)/num_feature)))"
   ]
  },
  {
   "cell_type": "code",
   "execution_count": 35,
   "id": "9f4dc639",
   "metadata": {
    "lines_to_next_cell": 2
   },
   "outputs": [
    {
     "name": "stdout",
     "output_type": "stream",
     "text": [
      "[1. 1. 1. 1. 1. 1.]\n",
      "[-0.01318818 -0.01203513 -0.01258469 -0.01737339 -0.01337492 -0.01470297]\n",
      "[38, 44, 56, 62, 68, 74]\n",
      "[]\n",
      "[]\n",
      "[]\n"
     ]
    }
   ],
   "source": [
    "#Pooled IG, feature value and cell index (not cellID)\n",
    "\n",
    "# List of feature values pooled in \"T1P2F2\", for example. \n",
    "\n",
    "filepath = dirpath_base  + dirname_attribution + \"ForEachCellType/data/T1P2F2/features.pickle\"\n",
    "data = sutil.PickleLoad(filepath)\n",
    "print(data)\n",
    "\n",
    "\n",
    "# List of IGs pooled in \"T1P2F2\", for example. \n",
    "\n",
    "filepath = dirpath_base  + dirname_attribution + \"ForEachCellType/data/T1P2F2/IG.pickle\"\n",
    "data = sutil.PickleLoad(filepath)\n",
    "print(data)\n",
    "\n",
    "\n",
    "# Index (not cell ID) of the cells in \"cell_type_name_list.pickle\" pooled in \"T1P2F2\", for example. \n",
    "\n",
    "filepath = dirpath_base + dirname_attribution + \"ForEachCellType/data/T1P2F2/index.pickle\"\n",
    "data = sutil.PickleLoad(filepath)\n",
    "print(data)\n",
    "\n",
    "\n",
    "\n",
    "# if we don't have features pooled to some cell types, the list of the pooled features are null.\n",
    "filepath = dirpath_base  + dirname_attribution + \"ForEachCellType/data/T0P0F0/features.pickle\"\n",
    "data = sutil.PickleLoad(filepath)\n",
    "print(data)\n",
    "\n",
    "filepath = dirpath_base  + dirname_attribution + \"ForEachCellType/data/T0P0F0/IG.pickle\"\n",
    "data = sutil.PickleLoad(filepath)\n",
    "print(data)\n",
    "\n",
    "filepath = dirpath_base  + dirname_attribution + \"ForEachCellType/data/T0P0F0/index.pickle\"\n",
    "data = sutil.PickleLoad(filepath)\n",
    "print(data)\n",
    "\n",
    "\n"
   ]
  },
  {
   "cell_type": "code",
   "execution_count": 36,
   "id": "f4eef57e",
   "metadata": {},
   "outputs": [
    {
     "name": "stdout",
     "output_type": "stream",
     "text": [
      "length = 277278\n",
      "length = 277278\n",
      "length = 277278\n",
      "length = 277278\n",
      "length = 277278\n"
     ]
    }
   ],
   "source": [
    "#1D List of IGs, the cell type, relative position, time index, features for all the input subgraphs. Only information of the nodes in each subgraph is registered. \n",
    "\n",
    "filepath = dirpath_base + dirname_attribution_summary + \"label=0_AllCells_IntegratedGradient_target_1D_all.pickle\"\n",
    "data = sutil.PickleLoad(filepath)\n",
    "print(\"length = %d\"%len(data))\n",
    "\n",
    "filepath = dirpath_base + dirname_attribution_summary + \"label=0_AllCells_cell_type_list_all.pickle\"\n",
    "data = sutil.PickleLoad(filepath)\n",
    "print(\"length = %d\"%len(data))\n",
    "\n",
    "filepath = dirpath_base + dirname_attribution_summary + \"label=0_AllCells_position_1D_all.pickle\"\n",
    "data = sutil.PickleLoad(filepath)\n",
    "print(\"length = %d\"%len(data))\n",
    "\n",
    "filepath = dirpath_base + dirname_attribution_summary + \"label=0_AllCells_time_index_1D_all.pickle\"\n",
    "data = sutil.PickleLoad(filepath)\n",
    "print(\"length = %d\"%len(data))\n",
    "\n",
    "filepath = dirpath_base + dirname_attribution_summary + \"label=0_AllCells_features_target_1D_all.pickle\"\n",
    "data = sutil.PickleLoad(filepath)\n",
    "print(\"length = %d\"%len(data))\n"
   ]
  },
  {
   "cell_type": "code",
   "execution_count": 38,
   "id": "90ef6e11",
   "metadata": {
    "lines_to_end_of_cell_marker": 2,
    "lines_to_next_cell": 0
   },
   "outputs": [
    {
     "name": "stdout",
     "output_type": "stream",
     "text": [
      "[0.02063095 0.02970089 0.         ... 0.00768162 0.00804466 0.00869255]\n",
      "length = 9886\n"
     ]
    }
   ],
   "source": [
    "#Pooled IG and feature values for all the subgraphs\n",
    "\n",
    "filepath = dirpath_base + dirname_attribution_summary + \"0/T1P2F2/IG_list_all.txt\"\n",
    "data = np.loadtxt(filepath)\n",
    "print(data)\n",
    "print(\"length = %d\"%len(data))"
   ]
  },
  {
   "cell_type": "code",
   "execution_count": null,
   "id": "27348f85",
   "metadata": {
    "lines_to_next_cell": 2
   },
   "outputs": [],
   "source": []
  },
  {
   "cell_type": "code",
   "execution_count": null,
   "id": "d72f7075-7a21-419b-a06e-84fd98b52516",
   "metadata": {},
   "outputs": [],
   "source": []
  }
 ],
 "metadata": {
  "jupytext": {
   "cell_metadata_filter": "-all",
   "encoding": "# -*- coding: utf-8 -*-",
   "notebook_metadata_filter": "-all",
   "text_representation": {
    "extension": ".py",
    "format_name": "light"
   }
  },
  "kernelspec": {
   "display_name": "Python 3",
   "language": "python",
   "name": "python3"
  },
  "language_info": {
   "codemirror_mode": {
    "name": "ipython",
    "version": 3
   },
   "file_extension": ".py",
   "mimetype": "text/x-python",
   "name": "python",
   "nbconvert_exporter": "python",
   "pygments_lexer": "ipython3",
   "version": "3.7.7"
  }
 },
 "nbformat": 4,
 "nbformat_minor": 5
}
